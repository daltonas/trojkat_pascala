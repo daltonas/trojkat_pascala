{
 "cells": [
  {
   "cell_type": "code",
   "execution_count": 2,
   "metadata": {},
   "outputs": [
    {
     "name": "stdout",
     "output_type": "stream",
     "text": [
      "                                  1                              \n",
      "                                1    1                           \n",
      "                             1    2    1                         \n",
      "                           1    3    3    1                      \n",
      "                        1    4    6    4    1                    \n",
      "                      1    5   10   10    5    1                 \n",
      "                   1    6   15   20   15    6    1               \n",
      "                 1    7   21   35   35   21    7    1            \n",
      "              1    8   28   56   70   56   28    8    1          \n",
      "            1    9   36   84  126  126   84   36    9    1       \n",
      "         1   10   45  120  210  252  210  120   45   10    1     \n"
     ]
    }
   ],
   "source": [
    "wiersz = [1]\n",
    "i = 0\n",
    "\n",
    "def wynik():\n",
    "    line = ''\n",
    "    for y in wiersz:\n",
    "        line += \"%5d\" % (y)\n",
    "    return line.center(65)\n",
    "\n",
    "print(wynik())\n",
    "\n",
    "while i != 10:\n",
    "    nowy_wiersz = [1]\n",
    "    miejsce = 0\n",
    "    while miejsce < len(wiersz)-1:\n",
    "        nowy_wiersz.append(wiersz[miejsce] + wiersz[miejsce + 1])\n",
    "        miejsce += 1\n",
    "    nowy_wiersz.append(1)\n",
    "    wiersz = nowy_wiersz.copy()\n",
    "    i += 1\n",
    "    print(wynik())"
   ]
  },
  {
   "cell_type": "code",
   "execution_count": null,
   "metadata": {},
   "outputs": [],
   "source": []
  }
 ],
 "metadata": {
  "kernelspec": {
   "display_name": "Python 3",
   "language": "python",
   "name": "python3"
  },
  "language_info": {
   "codemirror_mode": {
    "name": "ipython",
    "version": 3
   },
   "file_extension": ".py",
   "mimetype": "text/x-python",
   "name": "python",
   "nbconvert_exporter": "python",
   "pygments_lexer": "ipython3",
   "version": "3.7.1"
  }
 },
 "nbformat": 4,
 "nbformat_minor": 2
}
